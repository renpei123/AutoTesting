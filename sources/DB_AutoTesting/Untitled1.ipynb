{
 "cells": [
  {
   "cell_type": "code",
   "execution_count": null,
   "metadata": {},
   "outputs": [],
   "source": [
    "import json\n",
    "def loadFont():\n",
    "    f = open(\"Settings.json\", encoding='utf-8')  \n",
    "    setting = json.load(f)\n",
    "    family = setting['BaseSettings']['size']  \n",
    "    size = setting['fontSize']   \n",
    "     return family\n",
    "    \n",
    "    t = loadFont()\n",
    "    print(t)"
   ]
  }
 ],
 "metadata": {
  "kernelspec": {
   "display_name": "Python 3",
   "language": "python",
   "name": "python3"
  },
  "language_info": {
   "codemirror_mode": {
    "name": "ipython",
    "version": 3
   },
   "file_extension": ".py",
   "mimetype": "text/x-python",
   "name": "python",
   "nbconvert_exporter": "python",
   "pygments_lexer": "ipython3",
   "version": "3.7.0"
  }
 },
 "nbformat": 4,
 "nbformat_minor": 2
}
