{
 "cells": [
  {
   "cell_type": "code",
   "execution_count": 49,
   "metadata": {},
   "outputs": [
    {
     "name": "stdout",
     "output_type": "stream",
     "text": [
      "['BDWDM.CHRG_DTL18_618_V', 'BDWDM.CHRG_DTL18_V', 'BDWDM.CHRG_EXP18_ALL_V']\n",
      "['BDWDM.CHRG_DTL_CURR_ALL_UV', 'BDWDM.CHRG_EXP18_ALL_UV', 'BDWDM.CHRG_EXP18_ALL_618_UV']\n",
      "['BDWDM.CHRG_DTL18_618_V', 'BDWDM.CHRG_DTL18_V']\n"
     ]
    }
   ],
   "source": [
    "#!/usr/bin/python\n",
    "import json\n",
    "from io import StringIO\n",
    "\n",
    "\n",
    "def readConf():\n",
    "    with open(\"table_dep.json\",'r',encoding='utf-8') as f: \n",
    "        d = json.load(f)\n",
    "    return d\n",
    "\n",
    "\n",
    "def getBaseTableList():\n",
    "    arrayDict = readConf()\n",
    "    #tableList=[]\n",
    "    tableList = list(arrayDict.keys())\n",
    "    #print(type(arrayDict.keys()))\n",
    "    return tableList\n",
    "\n",
    "def getViewList(ViewType):\n",
    "    #ViewType = \"V\"\n",
    "    arrayDict = readConf()\n",
    "    tableList = list(arrayDict.keys())\n",
    "    viewList = []\n",
    "    #print(type(arrayDict))\n",
    "    for table in tableList:\n",
    "        for view in arrayDict[table]:\n",
    "            if view[\"TYPE\"] == ViewType:\n",
    "                viewList.append(view[\"NAME\"])\n",
    "    return viewList           \n",
    "\n",
    "            \n",
    "def getViewListByTable(TableName,ViewType):\n",
    "    arrayDict = readConf()\n",
    "    viewList = []\n",
    "    for view in arrayDict[TableName]:\n",
    "        if view[\"TYPE\"] == ViewType:\n",
    "            viewList.append(view[\"NAME\"])\n",
    "    return viewList\n",
    "\n",
    "\n",
    "\n",
    "if __name__ == \"__main__\":\n",
    "    print(getViewList(\"V\"))\n",
    "    print(getViewList(\"UV\"))\n",
    "    print(getViewListByTable(\"BDWDB.CHRG_DTL18\",\"V\"))\n",
    "    "
   ]
  }
 ],
 "metadata": {
  "kernelspec": {
   "display_name": "Python 3",
   "language": "python",
   "name": "python3"
  },
  "language_info": {
   "codemirror_mode": {
    "name": "ipython",
    "version": 3
   },
   "file_extension": ".py",
   "mimetype": "text/x-python",
   "name": "python",
   "nbconvert_exporter": "python",
   "pygments_lexer": "ipython3",
   "version": "3.7.0"
  }
 },
 "nbformat": 4,
 "nbformat_minor": 2
}
